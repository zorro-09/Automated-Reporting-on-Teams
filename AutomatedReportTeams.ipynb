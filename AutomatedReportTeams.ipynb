{
 "cells": [
  {
   "cell_type": "code",
   "execution_count": 1,
   "id": "b0e434f8-f1a6-4e2d-bf7d-8eaf76d7cee5",
   "metadata": {},
   "outputs": [],
   "source": [
    "import numpy as np\n",
    "import pandas as pd\n",
    "from google.cloud import bigquery"
   ]
  },
  {
   "cell_type": "code",
   "execution_count": 2,
   "id": "028054bf-743c-4f2f-9952-8098a72ccd66",
   "metadata": {},
   "outputs": [],
   "source": [
    "client = bigquery.Client.from_service_account_json('automatedreportteams-426703e845d0.json')"
   ]
  },
  {
   "cell_type": "code",
   "execution_count": 3,
   "id": "c9534e27-ffda-4c2b-b7b8-239ecddac3da",
   "metadata": {},
   "outputs": [],
   "source": [
    "previousDay = \"\"\"\n",
    "SELECT  date,\n",
    "        SUM(Spending) as TotalSpending,\n",
    "        SUM(Clicks) as TotalClicks,\n",
    "        SUM(Conversions) as TotalConversions,\n",
    "        ROUND(SUM(Spending)/SUM(Clicks),2) as CostPerClick,\n",
    "        ROUND(SUM(Spending)/SUM(Conversions),2) as CostPerConversion\n",
    "FROM `automatedreportteams.transactionData.transactionData` \n",
    "WHERE Date = DATE_SUB(CURRENT_DATE(), INTERVAL 1 DAY)\n",
    "GROUP BY Date\n",
    ";\n",
    "\"\"\""
   ]
  },
  {
   "cell_type": "code",
   "execution_count": 4,
   "id": "5a2d862d-5feb-4a5d-a311-e84dc7f5f874",
   "metadata": {},
   "outputs": [],
   "source": [
    "def sqlToDataframe(sqlQuery):\n",
    "    client = bigquery.Client.from_service_account_json('automatedreportteams-426703e845d0.json')\n",
    "    queryJob = client.query(sqlQuery)\n",
    "    result = queryJob.result()\n",
    "    df = pd.DataFrame([dict(i) for i in result])\n",
    "    return df"
   ]
  },
  {
   "cell_type": "code",
   "execution_count": 5,
   "id": "8646a8a0-0af2-4ca5-a15b-48d3f1aa225e",
   "metadata": {},
   "outputs": [],
   "source": [
    "previousDayReport = sqlToDataframe(previousDay)"
   ]
  },
  {
   "cell_type": "code",
   "execution_count": 6,
   "id": "97e59945-f7d9-4a1e-be46-1b1d752407be",
   "metadata": {},
   "outputs": [
    {
     "data": {
      "text/html": [
       "<div>\n",
       "<style scoped>\n",
       "    .dataframe tbody tr th:only-of-type {\n",
       "        vertical-align: middle;\n",
       "    }\n",
       "\n",
       "    .dataframe tbody tr th {\n",
       "        vertical-align: top;\n",
       "    }\n",
       "\n",
       "    .dataframe thead th {\n",
       "        text-align: right;\n",
       "    }\n",
       "</style>\n",
       "<table border=\"1\" class=\"dataframe\">\n",
       "  <thead>\n",
       "    <tr style=\"text-align: right;\">\n",
       "      <th></th>\n",
       "      <th>date</th>\n",
       "      <th>TotalSpending</th>\n",
       "      <th>TotalClicks</th>\n",
       "      <th>TotalConversions</th>\n",
       "      <th>CostPerClick</th>\n",
       "      <th>CostPerConversion</th>\n",
       "    </tr>\n",
       "  </thead>\n",
       "  <tbody>\n",
       "    <tr>\n",
       "      <th>0</th>\n",
       "      <td>2024-07-31</td>\n",
       "      <td>1798</td>\n",
       "      <td>439</td>\n",
       "      <td>46</td>\n",
       "      <td>4.1</td>\n",
       "      <td>39.09</td>\n",
       "    </tr>\n",
       "  </tbody>\n",
       "</table>\n",
       "</div>"
      ],
      "text/plain": [
       "         date  TotalSpending  TotalClicks  TotalConversions  CostPerClick  \\\n",
       "0  2024-07-31           1798          439                46           4.1   \n",
       "\n",
       "   CostPerConversion  \n",
       "0              39.09  "
      ]
     },
     "execution_count": 6,
     "metadata": {},
     "output_type": "execute_result"
    }
   ],
   "source": [
    "previousDayReport"
   ]
  },
  {
   "cell_type": "code",
   "execution_count": 10,
   "id": "e43bcb56-40cd-48ff-b492-d89c03b324da",
   "metadata": {},
   "outputs": [],
   "source": [
    "import gspread\n",
    "from oauth2client.service_account import ServiceAccountCredentials\n",
    "import requests"
   ]
  },
  {
   "cell_type": "code",
   "execution_count": 12,
   "id": "141d42d4-6455-4473-8953-686effddb082",
   "metadata": {},
   "outputs": [],
   "source": [
    "# Define the scope\n",
    "scope = [\"https://spreadsheets.google.com/feeds\", \"https://www.googleapis.com/auth/drive\"]\n",
    "    \n",
    "# Add credentials to the account\n",
    "creds = ServiceAccountCredentials.from_json_keyfile_name('automatedreportteams-426703e845d0.json', scope)\n",
    "    \n",
    "# Authorize the clientsheet\n",
    "client = gspread.authorize(creds)\n",
    "    \n",
    "# Open the spreadsheet\n",
    "spreadsheet = client.open('AutomatedReportTeams')\n",
    "\n",
    "#Select first sheet\n",
    "sheet = spreadsheet.sheet1"
   ]
  },
  {
   "cell_type": "code",
   "execution_count": 14,
   "id": "b7ea7215-5563-43f3-ac7a-926655f61dce",
   "metadata": {},
   "outputs": [],
   "source": [
    "values = previousDayReport.values.tolist()"
   ]
  },
  {
   "cell_type": "code",
   "execution_count": 16,
   "id": "c03f2f8d-a8d2-4ebf-ab90-173a06ee5963",
   "metadata": {},
   "outputs": [
    {
     "data": {
      "text/plain": [
       "[[datetime.date(2024, 7, 31), 1798, 439, 46, 4.1, 39.09]]"
      ]
     },
     "execution_count": 16,
     "metadata": {},
     "output_type": "execute_result"
    }
   ],
   "source": [
    "values"
   ]
  },
  {
   "cell_type": "code",
   "execution_count": 19,
   "id": "bea5957f-b60c-40af-bbad-7971a36a8429",
   "metadata": {},
   "outputs": [],
   "source": [
    "for row in values:\n",
    "    row[0] = row[0].strftime('%Y-%m-%d')"
   ]
  },
  {
   "cell_type": "code",
   "execution_count": 28,
   "id": "e1bf0857-badf-4372-9015-6981acdad502",
   "metadata": {},
   "outputs": [
    {
     "data": {
      "text/plain": [
       "{'spreadsheetId': '1iAGfUqeBVcwxMu5LlxhuoqxEgCvWje7BkQRLfEXE0Wg',\n",
       " 'updates': {'spreadsheetId': '1iAGfUqeBVcwxMu5LlxhuoqxEgCvWje7BkQRLfEXE0Wg',\n",
       "  'updatedRange': 'Sheet1!A2:F2',\n",
       "  'updatedRows': 1,\n",
       "  'updatedColumns': 6,\n",
       "  'updatedCells': 6}}"
      ]
     },
     "execution_count": 28,
     "metadata": {},
     "output_type": "execute_result"
    }
   ],
   "source": [
    "sheet.insert_rows(values, 2)"
   ]
  },
  {
   "cell_type": "code",
   "execution_count": 27,
   "id": "104be2c2-cc81-402f-8091-1f4c4608611d",
   "metadata": {},
   "outputs": [
    {
     "data": {
      "text/plain": [
       "{'spreadsheetId': '1iAGfUqeBVcwxMu5LlxhuoqxEgCvWje7BkQRLfEXE0Wg',\n",
       " 'replies': [{}]}"
      ]
     },
     "execution_count": 27,
     "metadata": {},
     "output_type": "execute_result"
    }
   ],
   "source": [
    "sheet.delete_rows(2)"
   ]
  },
  {
   "cell_type": "code",
   "execution_count": null,
   "id": "2959ab9f-a895-4ab1-bec0-8a69c3a6b8b6",
   "metadata": {},
   "outputs": [],
   "source": []
  }
 ],
 "metadata": {
  "kernelspec": {
   "display_name": "Python 3 (ipykernel)",
   "language": "python",
   "name": "python3"
  },
  "language_info": {
   "codemirror_mode": {
    "name": "ipython",
    "version": 3
   },
   "file_extension": ".py",
   "mimetype": "text/x-python",
   "name": "python",
   "nbconvert_exporter": "python",
   "pygments_lexer": "ipython3",
   "version": "3.11.7"
  }
 },
 "nbformat": 4,
 "nbformat_minor": 5
}
